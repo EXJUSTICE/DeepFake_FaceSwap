{
  "nbformat": 4,
  "nbformat_minor": 0,
  "metadata": {
    "colab": {
      "name": "1_Data_Preprocessing.ipynb",
      "version": "0.3.2",
      "provenance": [],
      "collapsed_sections": []
    },
    "language_info": {
      "codemirror_mode": {
        "name": "ipython",
        "version": 3
      },
      "file_extension": ".py",
      "mimetype": "text/x-python",
      "name": "python",
      "nbconvert_exporter": "python",
      "pygments_lexer": "ipython3",
      "version": "3.5.2"
    },
    "kernelspec": {
      "name": "python3",
      "display_name": "Python 3"
    },
    "accelerator": "GPU"
  },
  "cells": [
    {
      "cell_type": "markdown",
      "metadata": {
        "id": "_GNykj_YN3_M",
        "colab_type": "text"
      },
      "source": [
        "# DeepFakes 101: Facial Swap (1) - Data Preprocessing\n",
        "\n",
        "This script aims to generate a clean training data for deepfake generation by extracting facial data of training subjects via dlib's face_reocgnition. Based on the implementation by Ovalery16, in turn based on the original implementation by ShoanLu.\n",
        "\n",
        "Main improvements were focused on compatibility with Google Colaboratory environment as a stand-alone module.\n",
        "\n",
        "\n",
        "This notebook utilizes a Google Drive download to access auxilliary supporting image processing scripts. However, this could be replaced with simple git clone command.\n"
      ]
    },
    {
      "cell_type": "markdown",
      "metadata": {
        "id": "k_7NxttoN3_O",
        "colab_type": "text"
      },
      "source": [
        "1. Load dependencies"
      ]
    },
    {
      "cell_type": "code",
      "metadata": {
        "id": "oH9PAjGoOg4B",
        "colab_type": "code",
        "colab": {
          "base_uri": "https://localhost:8080/",
          "height": 986
        },
        "outputId": "d27d5bad-a416-45e9-903c-5ba92e39b2a9"
      },
      "source": [
        "#Download auxilliary components first\n",
        "\n",
        "\n",
        "!gdown https://drive.google.com/uc?id=1O0jrWmtAoSN-W8AwmO0GrqhcYPzkZB2Y\n",
        "  \n",
        "!unzip deepfake_aux.zip"
      ],
      "execution_count": 1,
      "outputs": [
        {
          "output_type": "stream",
          "text": [
            "Downloading...\n",
            "From: https://drive.google.com/uc?id=1O0jrWmtAoSN-W8AwmO0GrqhcYPzkZB2Y\n",
            "To: /content/deepfake_aux.zip\n",
            "7.60MB [00:00, 13.5MB/s]\n",
            "Archive:  deepfake_aux.zip\n",
            "   creating: data/\n",
            "  inflating: data/bond.jpg           \n",
            "  inflating: data/Casino-Royale-Eva-Green-Daniel-Craig.jpg  \n",
            "  inflating: data/Casino-Royale-Three-Piece-1000x524.jpg  \n",
            "  inflating: data/Casino-Royale.jpg  \n",
            "  inflating: data/casino_royale_movie_image_james_bond__1_.jpg  \n",
            "  inflating: data/CR_2012.jpg        \n",
            "  inflating: data/daniel-craig-casino-royale.jpg  \n",
            "  inflating: data/james-bond-casino-royale.jpg  \n",
            "  inflating: data/skyfall.jpg        \n",
            "   creating: filter/\n",
            "  inflating: filter/000001.jpg       \n",
            "   creating: image/\n",
            "  inflating: image/bond.jpg          \n",
            "  inflating: image/bond_v2.jpg       \n",
            "  inflating: image/Casino-Royale-Eva-Green-Daniel-Craig.jpg  \n",
            "  inflating: image/Casino-Royale-Eva-Green-Daniel-Craig_v2.jpg  \n",
            "  inflating: image/Casino-Royale.jpg  \n",
            "  inflating: image/casino_royale_movie_image_james_bond__1_.jpg  \n",
            "  inflating: image/casino_royale_movie_image_james_bond__1__v2.jpg  \n",
            "  inflating: image/CR_2012.jpg       \n",
            "  inflating: image/CR_2012_v2.jpg    \n",
            "  inflating: image/encoder1.JPG      \n",
            "  inflating: image/encoder2.JPG      \n",
            "  inflating: image/james-bond-casino-royale.jpg  \n",
            "  inflating: image/james-bond-casino-royale_v2.jpg  \n",
            "  inflating: image/jamesSwap.png     \n",
            "   creating: lib_1/\n",
            "  inflating: lib_1/aligner.py        \n",
            "  inflating: lib_1/Convert_Adjust.py  \n",
            "  inflating: lib_1/Convert_Masked.py  \n",
            "  inflating: lib_1/Extract_Align.py  \n",
            "  inflating: lib_1/Extract_Crop.py   \n",
            "  inflating: lib_1/FaceFilter.py     \n",
            "  inflating: lib_1/faces_detect.py   \n",
            "  inflating: lib_1/ModelAE.py        \n",
            "  inflating: lib_1/Model_LowMem.py   \n",
            "  inflating: lib_1/Model_Original.py  \n",
            "  inflating: lib_1/PixelShuffler.py  \n",
            "  inflating: lib_1/PluginLoader.py   \n",
            "  inflating: lib_1/training_data.py  \n",
            "  inflating: lib_1/umeyama.py        \n",
            "  inflating: lib_1/utils.py          \n",
            "   creating: test/\n",
            "  inflating: test/bond.jpg           \n",
            "  inflating: test/Casino-Royale-Eva-Green-Daniel-Craig.jpg  \n",
            "  inflating: test/Casino-Royale-Three-Piece-1000x524.jpg  \n",
            "  inflating: test/casino_royale_movie_image_james_bond__1_.jpg  \n",
            "  inflating: test/CR_2012.jpg        \n",
            "  inflating: test/daniel-craig-casino-royale.jpg  \n",
            "  inflating: test/james-bond-casino-royale.jpg  \n",
            "  inflating: test/skyfall.jpg        \n"
          ],
          "name": "stdout"
        }
      ]
    },
    {
      "cell_type": "code",
      "metadata": {
        "id": "fkbSEk-HPk6H",
        "colab_type": "code",
        "colab": {
          "base_uri": "https://localhost:8080/",
          "height": 816
        },
        "outputId": "02dbefef-e358-40e6-fa5e-380c9dd1f336"
      },
      "source": [
        "#Install dependencies if missing\n",
        "\n",
        "!pip install face_recognition\n",
        "\n",
        "!pip install scandir\n",
        "!pip install h5py\n",
        "!pip install opencv-python\n",
        "!pip install scikit-image\n",
        "!pip install dlib\n",
        "!pip install tqdm\n",
        "\n"
      ],
      "execution_count": 2,
      "outputs": [
        {
          "output_type": "stream",
          "text": [
            "Collecting face_recognition\n",
            "  Downloading https://files.pythonhosted.org/packages/3f/ed/ad9a28042f373d4633fc8b49109b623597d6f193d3bbbef7780a5ee8eef2/face_recognition-1.2.3-py2.py3-none-any.whl\n",
            "Requirement already satisfied: dlib>=19.7 in /usr/local/lib/python3.6/dist-packages (from face_recognition) (19.16.0)\n",
            "Requirement already satisfied: numpy in /usr/local/lib/python3.6/dist-packages (from face_recognition) (1.16.4)\n",
            "Collecting face-recognition-models>=0.3.0 (from face_recognition)\n",
            "\u001b[?25l  Downloading https://files.pythonhosted.org/packages/cf/3b/4fd8c534f6c0d1b80ce0973d01331525538045084c73c153ee6df20224cf/face_recognition_models-0.3.0.tar.gz (100.1MB)\n",
            "\u001b[K     |████████████████████████████████| 100.2MB 297kB/s \n",
            "\u001b[?25hRequirement already satisfied: Click>=6.0 in /usr/local/lib/python3.6/dist-packages (from face_recognition) (7.0)\n",
            "Requirement already satisfied: Pillow in /usr/local/lib/python3.6/dist-packages (from face_recognition) (4.3.0)\n",
            "Requirement already satisfied: olefile in /usr/local/lib/python3.6/dist-packages (from Pillow->face_recognition) (0.46)\n",
            "Building wheels for collected packages: face-recognition-models\n",
            "  Building wheel for face-recognition-models (setup.py) ... \u001b[?25l\u001b[?25hdone\n",
            "  Stored in directory: /root/.cache/pip/wheels/d2/99/18/59c6c8f01e39810415c0e63f5bede7d83dfb0ffc039865465f\n",
            "Successfully built face-recognition-models\n",
            "Installing collected packages: face-recognition-models, face-recognition\n",
            "Successfully installed face-recognition-1.2.3 face-recognition-models-0.3.0\n",
            "Collecting scandir\n",
            "  Downloading https://files.pythonhosted.org/packages/df/f5/9c052db7bd54d0cbf1bc0bb6554362bba1012d03e5888950a4f5c5dadc4e/scandir-1.10.0.tar.gz\n",
            "Building wheels for collected packages: scandir\n",
            "  Building wheel for scandir (setup.py) ... \u001b[?25l\u001b[?25hdone\n",
            "  Stored in directory: /root/.cache/pip/wheels/91/95/75/19c98a91239878abbc7c59970abd3b4e0438a7dd5b61778335\n",
            "Successfully built scandir\n",
            "Installing collected packages: scandir\n",
            "Successfully installed scandir-1.10.0\n",
            "Requirement already satisfied: h5py in /usr/local/lib/python3.6/dist-packages (2.8.0)\n",
            "Requirement already satisfied: numpy>=1.7 in /usr/local/lib/python3.6/dist-packages (from h5py) (1.16.4)\n",
            "Requirement already satisfied: six in /usr/local/lib/python3.6/dist-packages (from h5py) (1.12.0)\n",
            "Requirement already satisfied: opencv-python in /usr/local/lib/python3.6/dist-packages (3.4.5.20)\n",
            "Requirement already satisfied: numpy>=1.11.3 in /usr/local/lib/python3.6/dist-packages (from opencv-python) (1.16.4)\n",
            "Requirement already satisfied: scikit-image in /usr/local/lib/python3.6/dist-packages (0.15.0)\n",
            "Requirement already satisfied: networkx>=2.0 in /usr/local/lib/python3.6/dist-packages (from scikit-image) (2.3)\n",
            "Requirement already satisfied: scipy>=0.17.0 in /usr/local/lib/python3.6/dist-packages (from scikit-image) (1.3.0)\n",
            "Requirement already satisfied: pillow>=4.3.0 in /usr/local/lib/python3.6/dist-packages (from scikit-image) (4.3.0)\n",
            "Requirement already satisfied: PyWavelets>=0.4.0 in /usr/local/lib/python3.6/dist-packages (from scikit-image) (1.0.3)\n",
            "Requirement already satisfied: matplotlib!=3.0.0,>=2.0.0 in /usr/local/lib/python3.6/dist-packages (from scikit-image) (3.0.3)\n",
            "Requirement already satisfied: imageio>=2.0.1 in /usr/local/lib/python3.6/dist-packages (from scikit-image) (2.4.1)\n",
            "Requirement already satisfied: decorator>=4.3.0 in /usr/local/lib/python3.6/dist-packages (from networkx>=2.0->scikit-image) (4.4.0)\n",
            "Requirement already satisfied: numpy>=1.13.3 in /usr/local/lib/python3.6/dist-packages (from scipy>=0.17.0->scikit-image) (1.16.4)\n",
            "Requirement already satisfied: olefile in /usr/local/lib/python3.6/dist-packages (from pillow>=4.3.0->scikit-image) (0.46)\n",
            "Requirement already satisfied: kiwisolver>=1.0.1 in /usr/local/lib/python3.6/dist-packages (from matplotlib!=3.0.0,>=2.0.0->scikit-image) (1.1.0)\n",
            "Requirement already satisfied: cycler>=0.10 in /usr/local/lib/python3.6/dist-packages (from matplotlib!=3.0.0,>=2.0.0->scikit-image) (0.10.0)\n",
            "Requirement already satisfied: pyparsing!=2.0.4,!=2.1.2,!=2.1.6,>=2.0.1 in /usr/local/lib/python3.6/dist-packages (from matplotlib!=3.0.0,>=2.0.0->scikit-image) (2.4.0)\n",
            "Requirement already satisfied: python-dateutil>=2.1 in /usr/local/lib/python3.6/dist-packages (from matplotlib!=3.0.0,>=2.0.0->scikit-image) (2.5.3)\n",
            "Requirement already satisfied: setuptools in /usr/local/lib/python3.6/dist-packages (from kiwisolver>=1.0.1->matplotlib!=3.0.0,>=2.0.0->scikit-image) (41.0.1)\n",
            "Requirement already satisfied: six in /usr/local/lib/python3.6/dist-packages (from cycler>=0.10->matplotlib!=3.0.0,>=2.0.0->scikit-image) (1.12.0)\n",
            "Requirement already satisfied: dlib in /usr/local/lib/python3.6/dist-packages (19.16.0)\n",
            "Requirement already satisfied: tqdm in /usr/local/lib/python3.6/dist-packages (4.28.1)\n"
          ],
          "name": "stdout"
        }
      ]
    },
    {
      "cell_type": "code",
      "metadata": {
        "id": "SbFF-YLDN3_R",
        "colab_type": "code",
        "colab": {
          "base_uri": "https://localhost:8080/",
          "height": 34
        },
        "outputId": "9bddc358-89ca-463d-9b99-14634ff92d79"
      },
      "source": [
        "import cv2\n",
        "from pathlib import Path\n",
        "import face_recognition\n",
        "from lib_1.PluginLoader import PluginLoader\n",
        "from lib_1.faces_detect import detect_faces\n",
        "from lib_1.FaceFilter import FaceFilter\n",
        "import os\n",
        "!mkdir extracted\n",
        "from os import path"
      ],
      "execution_count": 72,
      "outputs": [
        {
          "output_type": "stream",
          "text": [
            "mkdir: cannot create directory ‘extracted’: File exists\n"
          ],
          "name": "stdout"
        }
      ]
    },
    {
      "cell_type": "markdown",
      "metadata": {
        "id": "xFd8BuCtN3_X",
        "colab_type": "text"
      },
      "source": [
        "2. Define directories"
      ]
    },
    {
      "cell_type": "code",
      "metadata": {
        "id": "DlGS2szKN3_Z",
        "colab_type": "code",
        "colab": {}
      },
      "source": [
        "input_directory=\"../content/data/\"\n",
        "\n",
        "\n",
        "\n",
        "output_directory=\"../content/extracted/\""
      ],
      "execution_count": 0,
      "outputs": []
    },
    {
      "cell_type": "markdown",
      "metadata": {
        "id": "iyGiDHBNN3_o",
        "colab_type": "text"
      },
      "source": [
        "Define extraction functions"
      ]
    },
    {
      "cell_type": "code",
      "metadata": {
        "id": "RQeeDWYDN3_r",
        "colab_type": "code",
        "colab": {}
      },
      "source": [
        "def load_filter():\n",
        "    filter_file = '../content/filter/000001.jpg' # TODO Pass as argument\n",
        "    if os.path.exists(filter_file):\n",
        "        print('Loading reference image for filtering')\n",
        "        return FaceFilter(filter_file)\n",
        "    else:\n",
        "        print(\"Filter not detected\")\n",
        "\n",
        "def get_faces(image):\n",
        "    faces_count = 0\n",
        "    filterDeepFake = load_filter()\n",
        "    \n",
        "    for face in detect_faces(image):\n",
        "        \n",
        "        if filterDeepFake is not None and not filterDeepFake.check(face):\n",
        "            print('Skipping not recognized face!')\n",
        "            continue\n",
        "        \n",
        "\n",
        "        yield faces_count, face\n"
      ],
      "execution_count": 0,
      "outputs": []
    },
    {
      "cell_type": "code",
      "metadata": {
        "id": "Nq0i7Yv8WT48",
        "colab_type": "code",
        "colab": {
          "base_uri": "https://localhost:8080/",
          "height": 170
        },
        "outputId": "48f590d9-44f7-4b61-d2fb-9e0b0d6ea88f"
      },
      "source": [
        "os.listdir(input_directory)"
      ],
      "execution_count": 46,
      "outputs": [
        {
          "output_type": "execute_result",
          "data": {
            "text/plain": [
              "['Casino-Royale-Three-Piece-1000x524.jpg',\n",
              " 'james-bond-casino-royale.jpg',\n",
              " 'bond.jpg',\n",
              " 'skyfall.jpg',\n",
              " 'casino_royale_movie_image_james_bond__1_.jpg',\n",
              " 'CR_2012.jpg',\n",
              " 'Casino-Royale-Eva-Green-Daniel-Craig.jpg',\n",
              " 'daniel-craig-casino-royale.jpg',\n",
              " 'Casino-Royale.jpg']"
            ]
          },
          "metadata": {
            "tags": []
          },
          "execution_count": 46
        }
      ]
    },
    {
      "cell_type": "markdown",
      "metadata": {
        "id": "-wl_kur1N4An",
        "colab_type": "text"
      },
      "source": [
        "We list the image in the input directory and we extract the faces in each of them"
      ]
    },
    {
      "cell_type": "code",
      "metadata": {
        "id": "mlXTWLvZN4Ap",
        "colab_type": "code",
        "colab": {
          "base_uri": "https://localhost:8080/",
          "height": 1000
        },
        "outputId": "d5c84885-3e64-42b3-ccb3-25063c0f7f31"
      },
      "source": [
        "files = [i for i in os.listdir(input_directory)]\n",
        "         \n",
        "         \n",
        "from matplotlib import pyplot as plt\n",
        "from google.colab.patches import cv2_imshow\n",
        "\n",
        "extractor_name = \"Align\" # TODO Pass as argument\n",
        "extractor = PluginLoader.get_extractor(extractor_name)()\n",
        "\n",
        "\"\"\"\n",
        "\n",
        "#Single Example test\n",
        "\n",
        "example  =\"../content/data/CR_2012.jpg\"\n",
        "\n",
        "\n",
        "image = cv2.imread(example)\n",
        "\n",
        "for idx, face in get_faces(image):\n",
        "           resized_image = extractor.extract(image, face, 256)\n",
        "           output_file = output_directory+\"/\"+str(Path(example).stem)\n",
        "           cv2.imwrite(str(output_file) + str(idx) + Path(example).suffix, resized_image)\n",
        "\"\"\"\n",
        "#Simply iterating over the folder is insufficient, imread needs paths, so create them into a list.\n",
        "\n",
        "def find_all_files(directory):\n",
        "    for root, dirs, files in os.walk(directory):\n",
        "\n",
        "        for file in files:\n",
        "            p=os.path.join(root, file)\n",
        "            p=p.split(\"/\")[len(p.split(\"/\"))-2]\n",
        "            name, ext = os.path.splitext(p)\n",
        "\n",
        "            yield os.path.join(root, file)\n",
        "folder_img = find_all_files(input_directory)\n",
        "\n",
        "try:\n",
        "    for filename in folder_img:\n",
        "        #print(file)\n",
        "        #filename = Path(input_directory+file)\n",
        "        \n",
        "        \n",
        "        \n",
        "        image = cv2.imread(filename)\n",
        "        \n",
        "        \n",
        "        \n",
        "        for idx, face in get_faces(image):\n",
        "            resized_image = extractor.extract(image, face, 256)\n",
        "            output_file = output_directory+\"/\"+str(Path(filename).stem)\n",
        "            cv2.imwrite(str(output_file) + str(idx) + Path(filename).suffix, resized_image)\n",
        "\n",
        "except Exception as e:\n",
        "    print('Failed to extract from image: {}. Reason: {}'.format(filename, e))\n",
        "    \n",
        "   \n",
        "   "
      ],
      "execution_count": 78,
      "outputs": [
        {
          "output_type": "stream",
          "text": [
            "Loading Extract from Extract_Align plugin...\n",
            "Loading reference image for filtering\n",
            "-----\n",
            "check\n",
            "[0.54722875]\n",
            "Loading reference image for filtering\n",
            "-----\n",
            "check\n",
            "[0.50327047]\n",
            "check\n",
            "[0.72714366]\n",
            "Skipping not recognized face!\n",
            "check\n",
            "[0.90924023]\n",
            "Skipping not recognized face!\n",
            "Loading reference image for filtering\n",
            "-----\n",
            "check\n",
            "[0.43341391]\n",
            "Loading reference image for filtering\n",
            "-----\n",
            "check\n",
            "[0.58806588]\n",
            "check\n",
            "[0.65114009]\n",
            "Skipping not recognized face!\n",
            "Loading reference image for filtering\n",
            "-----\n",
            "check\n",
            "[0.945535]\n",
            "Skipping not recognized face!\n",
            "check\n",
            "[0.4803462]\n",
            "check\n",
            "[0.97828736]\n",
            "Skipping not recognized face!\n",
            "Loading reference image for filtering\n",
            "-----\n",
            "check\n",
            "[0.57495226]\n",
            "Loading reference image for filtering\n",
            "-----\n",
            "check\n",
            "[0.5175336]\n",
            "Loading reference image for filtering\n",
            "-----\n",
            "check\n",
            "[0.45176478]\n",
            "check\n",
            "[0.77825574]\n",
            "Skipping not recognized face!\n",
            "Loading reference image for filtering\n",
            "-----\n",
            "check\n",
            "[0.48051887]\n",
            "check\n",
            "[0.74737404]\n",
            "Skipping not recognized face!\n"
          ],
          "name": "stdout"
        }
      ]
    },
    {
      "cell_type": "code",
      "metadata": {
        "id": "xa0DLj_iN4BR",
        "colab_type": "code",
        "colab": {
          "base_uri": "https://localhost:8080/",
          "height": 204
        },
        "outputId": "71ad3d80-d5e5-4f68-d3cb-b6ee60773422"
      },
      "source": [
        "# Zip up results for use later\n",
        "\n",
        "!zip -r extracted.zip extracted"
      ],
      "execution_count": 79,
      "outputs": [
        {
          "output_type": "stream",
          "text": [
            "  adding: extracted/ (stored 0%)\n",
            "  adding: extracted/Casino-Royale0.jpg (deflated 1%)\n",
            "  adding: extracted/daniel-craig-casino-royale0.jpg (deflated 1%)\n",
            "  adding: extracted/Casino-Royale-Three-Piece-1000x5240.jpg (deflated 1%)\n",
            "  adding: extracted/Casino-Royale-Eva-Green-Daniel-Craig0.jpg (deflated 1%)\n",
            "  adding: extracted/james-bond-casino-royale0.jpg (deflated 1%)\n",
            "  adding: extracted/casino_royale_movie_image_james_bond__1_0.jpg (deflated 1%)\n",
            "  adding: extracted/CR_20120.jpg (deflated 1%)\n",
            "  adding: extracted/skyfall0.jpg (deflated 1%)\n",
            "  adding: extracted/.ipynb_checkpoints/ (stored 0%)\n",
            "  adding: extracted/bond0.jpg (deflated 1%)\n"
          ],
          "name": "stdout"
        }
      ]
    }
  ]
}